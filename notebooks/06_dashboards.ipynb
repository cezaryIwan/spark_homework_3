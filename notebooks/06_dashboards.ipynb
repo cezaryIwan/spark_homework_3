{
 "cells": [
  {
   "cell_type": "markdown",
   "metadata": {
    "application/vnd.databricks.v1+cell": {
     "cellMetadata": {
      "byteLimit": 2048000,
      "rowLimit": 10000
     },
     "inputWidgets": {},
     "nuid": "c923d072-c00d-40bd-a037-8972bbcb05ca",
     "showTitle": false,
     "tableResultSettingsMap": {},
     "title": ""
    }
   },
   "source": [
    "### Amsterdam"
   ]
  },
  {
   "cell_type": "code",
   "execution_count": 0,
   "metadata": {
    "application/vnd.databricks.v1+cell": {
     "cellMetadata": {
      "byteLimit": 2048000,
      "implicitDf": true,
      "rowLimit": 10000
     },
     "inputWidgets": {},
     "nuid": "e667fc57-3863-4be8-9fa8-7c60b6ec2230",
     "showTitle": false,
     "tableResultSettingsMap": {},
     "title": ""
    }
   },
   "outputs": [
    {
     "output_type": "display_data",
     "data": {
      "text/plain": [
       "Databricks visualization. Run in Databricks to view."
      ]
     },
     "metadata": {
      "application/vnd.databricks.v1.subcommand+json": {
       "baseErrorDetails": null,
       "bindings": {},
       "collapsed": false,
       "command": "%sql WITH q AS (SELECT * FROM gold.dashboard_metrics_amsterdam ORDER BY wthr_date) SELECT `wthr_date`,SUM(`number_of_reported_hotels`) `column_df8a94bc207`,AVG(`avg_tmpr_c`) `column_df8a94bc210`,MAX(`max_tmpr_c`) `column_df8a94bc213`,MIN(`min_tmpr_c`) `column_df8a94bc216` FROM q GROUP BY `wthr_date`",
       "commandTitle": "Visualization 1",
       "commandType": "auto",
       "commandVersion": 0,
       "commentThread": [],
       "commentsVisible": false,
       "contentSha256Hex": null,
       "customPlotOptions": {
        "redashChart": [
         {
          "key": "type",
          "value": "CHART"
         },
         {
          "key": "options",
          "value": {
           "alignYAxesAtZero": true,
           "coefficient": 1,
           "columnConfigurationMap": {
            "x": {
             "column": "wthr_date",
             "id": "column_df8a94bc204"
            },
            "y": [
             {
              "column": "number_of_reported_hotels",
              "id": "column_df8a94bc207",
              "transform": "SUM"
             },
             {
              "column": "avg_tmpr_c",
              "id": "column_df8a94bc210",
              "transform": "AVG"
             },
             {
              "column": "max_tmpr_c",
              "id": "column_df8a94bc213",
              "transform": "MAX"
             },
             {
              "column": "min_tmpr_c",
              "id": "column_df8a94bc216",
              "transform": "MIN"
             }
            ]
           },
           "dateTimeFormat": "DD/MM/YYYY HH:mm",
           "direction": {
            "type": "counterclockwise"
           },
           "error_y": {
            "type": "data",
            "visible": true
           },
           "globalSeriesType": "column",
           "isAggregationOn": true,
           "legend": {
            "traceorder": "normal"
           },
           "missingValuesAsZero": true,
           "numberFormat": "0,0.[00000]",
           "percentFormat": "0[.]00%",
           "series": {
            "error_y": {
             "type": "data",
             "visible": true
            },
            "stacking": null
           },
           "seriesOptions": {
            "column_df8a94bc207": {
             "type": "column",
             "yAxis": 0
            },
            "column_df8a94bc210": {
             "type": "column",
             "yAxis": 0
            },
            "column_df8a94bc213": {
             "type": "column",
             "yAxis": 0
            },
            "column_df8a94bc216": {
             "type": "column",
             "yAxis": 0
            }
           },
           "showDataLabels": false,
           "sizemode": "diameter",
           "sortX": true,
           "sortY": true,
           "swappedAxes": false,
           "textFormat": "",
           "useAggregationsUi": true,
           "valuesOptions": {},
           "version": 2,
           "xAxis": {
            "labels": {
             "enabled": true
            },
            "type": "-"
           },
           "yAxis": [
            {
             "type": "-"
            },
            {
             "opposite": true,
             "type": "-"
            }
           ]
          }
         }
        ]
       },
       "datasetPreviewNameToCmdIdMap": {},
       "diffDeletes": [],
       "diffInserts": [],
       "displayType": "redashChart",
       "error": null,
       "errorDetails": null,
       "errorSummary": null,
       "errorTraceType": null,
       "finishTime": 0,
       "globalVars": {},
       "guid": "",
       "height": "auto",
       "hideCommandCode": false,
       "hideCommandResult": false,
       "iPythonMetadata": null,
       "inputWidgets": {},
       "isLockedInExamMode": false,
       "latestUser": "a user",
       "latestUserId": null,
       "listResultMetadata": null,
       "metadata": {},
       "nuid": "c62f9c6a-3324-4fed-a5cd-8f6b4075e73e",
       "origId": 0,
       "parentHierarchy": [],
       "pivotAggregation": null,
       "pivotColumns": null,
       "position": 5.0,
       "resultDbfsErrorMessage": null,
       "resultDbfsStatus": "INLINED_IN_TREE",
       "results": null,
       "showCommandTitle": false,
       "startTime": 0,
       "state": "input",
       "streamStates": {},
       "subcommandOptions": {
        "queryPlan": {
         "groups": [
          {
           "column": "wthr_date",
           "type": "column"
          }
         ],
         "selects": [
          {
           "column": "wthr_date",
           "type": "column"
          },
          {
           "alias": "column_df8a94bc207",
           "args": [
            {
             "column": "number_of_reported_hotels",
             "type": "column"
            }
           ],
           "function": "SUM",
           "type": "function"
          },
          {
           "alias": "column_df8a94bc210",
           "args": [
            {
             "column": "avg_tmpr_c",
             "type": "column"
            }
           ],
           "function": "AVG",
           "type": "function"
          },
          {
           "alias": "column_df8a94bc213",
           "args": [
            {
             "column": "max_tmpr_c",
             "type": "column"
            }
           ],
           "function": "MAX",
           "type": "function"
          },
          {
           "alias": "column_df8a94bc216",
           "args": [
            {
             "column": "min_tmpr_c",
             "type": "column"
            }
           ],
           "function": "MIN",
           "type": "function"
          }
         ]
        }
       },
       "submitTime": 0,
       "subtype": "tableResultSubCmd.visualization",
       "tableResultIndex": 0,
       "tableResultSettingsMap": {},
       "useConsistentColors": false,
       "version": "CommandV1",
       "width": "auto",
       "workflows": null,
       "xColumns": null,
       "yColumns": null
      }
     },
     "output_type": "display_data"
    }
   ],
   "source": [
    "%sql\n",
    "SELECT * FROM gold.dashboard_metrics_amsterdam ORDER BY wthr_date"
   ]
  },
  {
   "cell_type": "markdown",
   "metadata": {
    "application/vnd.databricks.v1+cell": {
     "cellMetadata": {
      "byteLimit": 2048000,
      "rowLimit": 10000
     },
     "inputWidgets": {},
     "nuid": "c6b0687b-9d6a-4784-a222-96a62e93116f",
     "showTitle": false,
     "tableResultSettingsMap": {},
     "title": ""
    }
   },
   "source": [
    "### Houston"
   ]
  },
  {
   "cell_type": "code",
   "execution_count": 0,
   "metadata": {
    "application/vnd.databricks.v1+cell": {
     "cellMetadata": {
      "byteLimit": 2048000,
      "implicitDf": true,
      "rowLimit": 10000
     },
     "inputWidgets": {},
     "nuid": "ba8a1969-9b25-4bde-9b3d-5f6ddf31ceb3",
     "showTitle": false,
     "tableResultSettingsMap": {},
     "title": ""
    }
   },
   "outputs": [
    {
     "output_type": "display_data",
     "data": {
      "text/plain": [
       "Databricks visualization. Run in Databricks to view."
      ]
     },
     "metadata": {
      "application/vnd.databricks.v1.subcommand+json": {
       "baseErrorDetails": null,
       "bindings": {},
       "collapsed": false,
       "command": "%sql WITH q AS (SELECT * FROM gold.dashboard_metrics_houston ORDER BY wthr_date) SELECT `wthr_date`,SUM(`number_of_reported_hotels`) `column_df8a94bc228`,AVG(`avg_tmpr_c`) `column_df8a94bc231`,MAX(`max_tmpr_c`) `column_df8a94bc234`,MIN(`min_tmpr_c`) `column_df8a94bc237` FROM q GROUP BY `wthr_date`",
       "commandTitle": "Visualization 1",
       "commandType": "auto",
       "commandVersion": 0,
       "commentThread": [],
       "commentsVisible": false,
       "contentSha256Hex": null,
       "customPlotOptions": {
        "redashChart": [
         {
          "key": "type",
          "value": "CHART"
         },
         {
          "key": "options",
          "value": {
           "alignYAxesAtZero": true,
           "coefficient": 1,
           "columnConfigurationMap": {
            "x": {
             "column": "wthr_date",
             "id": "column_df8a94bc224"
            },
            "y": [
             {
              "column": "number_of_reported_hotels",
              "id": "column_df8a94bc228",
              "transform": "SUM"
             },
             {
              "column": "avg_tmpr_c",
              "id": "column_df8a94bc231",
              "transform": "AVG"
             },
             {
              "column": "max_tmpr_c",
              "id": "column_df8a94bc234",
              "transform": "MAX"
             },
             {
              "column": "min_tmpr_c",
              "id": "column_df8a94bc237",
              "transform": "MIN"
             }
            ]
           },
           "dateTimeFormat": "DD/MM/YYYY HH:mm",
           "direction": {
            "type": "counterclockwise"
           },
           "error_y": {
            "type": "data",
            "visible": true
           },
           "globalSeriesType": "column",
           "isAggregationOn": true,
           "legend": {
            "traceorder": "normal"
           },
           "missingValuesAsZero": true,
           "numberFormat": "0,0.[00000]",
           "percentFormat": "0[.]00%",
           "series": {
            "error_y": {
             "type": "data",
             "visible": true
            },
            "stacking": null
           },
           "seriesOptions": {
            "column_df8a94bc228": {
             "type": "column",
             "yAxis": 0
            },
            "column_df8a94bc231": {
             "type": "column",
             "yAxis": 0
            },
            "column_df8a94bc234": {
             "type": "column",
             "yAxis": 0
            },
            "column_df8a94bc237": {
             "type": "column",
             "yAxis": 0
            }
           },
           "showDataLabels": false,
           "sizemode": "diameter",
           "sortX": true,
           "sortY": true,
           "swappedAxes": false,
           "textFormat": "",
           "useAggregationsUi": true,
           "valuesOptions": {},
           "version": 2,
           "xAxis": {
            "labels": {
             "enabled": true
            },
            "type": "-"
           },
           "yAxis": [
            {
             "type": "-"
            },
            {
             "opposite": true,
             "type": "-"
            }
           ]
          }
         }
        ]
       },
       "datasetPreviewNameToCmdIdMap": {},
       "diffDeletes": [],
       "diffInserts": [],
       "displayType": "redashChart",
       "error": null,
       "errorDetails": null,
       "errorSummary": null,
       "errorTraceType": null,
       "finishTime": 0,
       "globalVars": {},
       "guid": "",
       "height": "auto",
       "hideCommandCode": false,
       "hideCommandResult": false,
       "iPythonMetadata": null,
       "inputWidgets": {},
       "isLockedInExamMode": false,
       "latestUser": "a user",
       "latestUserId": null,
       "listResultMetadata": null,
       "metadata": {},
       "nuid": "ac8f2e78-99d4-4231-863a-4e199d7a85cb",
       "origId": 0,
       "parentHierarchy": [],
       "pivotAggregation": null,
       "pivotColumns": null,
       "position": 7.0,
       "resultDbfsErrorMessage": null,
       "resultDbfsStatus": "INLINED_IN_TREE",
       "results": null,
       "showCommandTitle": false,
       "startTime": 0,
       "state": "input",
       "streamStates": {},
       "subcommandOptions": {
        "queryPlan": {
         "groups": [
          {
           "column": "wthr_date",
           "type": "column"
          }
         ],
         "selects": [
          {
           "column": "wthr_date",
           "type": "column"
          },
          {
           "alias": "column_df8a94bc228",
           "args": [
            {
             "column": "number_of_reported_hotels",
             "type": "column"
            }
           ],
           "function": "SUM",
           "type": "function"
          },
          {
           "alias": "column_df8a94bc231",
           "args": [
            {
             "column": "avg_tmpr_c",
             "type": "column"
            }
           ],
           "function": "AVG",
           "type": "function"
          },
          {
           "alias": "column_df8a94bc234",
           "args": [
            {
             "column": "max_tmpr_c",
             "type": "column"
            }
           ],
           "function": "MAX",
           "type": "function"
          },
          {
           "alias": "column_df8a94bc237",
           "args": [
            {
             "column": "min_tmpr_c",
             "type": "column"
            }
           ],
           "function": "MIN",
           "type": "function"
          }
         ]
        }
       },
       "submitTime": 0,
       "subtype": "tableResultSubCmd.visualization",
       "tableResultIndex": 0,
       "tableResultSettingsMap": {},
       "useConsistentColors": false,
       "version": "CommandV1",
       "width": "auto",
       "workflows": null,
       "xColumns": null,
       "yColumns": null
      }
     },
     "output_type": "display_data"
    }
   ],
   "source": [
    "%sql\n",
    "SELECT * FROM gold.dashboard_metrics_houston ORDER BY wthr_date"
   ]
  },
  {
   "cell_type": "markdown",
   "metadata": {
    "application/vnd.databricks.v1+cell": {
     "cellMetadata": {
      "byteLimit": 2048000,
      "rowLimit": 10000
     },
     "inputWidgets": {},
     "nuid": "76d739c9-e1f5-436c-b4e8-dc76c5f1bc3d",
     "showTitle": false,
     "tableResultSettingsMap": {},
     "title": ""
    }
   },
   "source": [
    "### London"
   ]
  },
  {
   "cell_type": "code",
   "execution_count": 0,
   "metadata": {
    "application/vnd.databricks.v1+cell": {
     "cellMetadata": {
      "byteLimit": 2048000,
      "implicitDf": true,
      "rowLimit": 10000
     },
     "inputWidgets": {},
     "nuid": "be3fbff5-fc24-44c8-aff3-a16765172003",
     "showTitle": false,
     "tableResultSettingsMap": {},
     "title": ""
    }
   },
   "outputs": [
    {
     "output_type": "display_data",
     "data": {
      "text/plain": [
       "Databricks visualization. Run in Databricks to view."
      ]
     },
     "metadata": {
      "application/vnd.databricks.v1.subcommand+json": {
       "baseErrorDetails": null,
       "bindings": {},
       "collapsed": false,
       "command": "%sql WITH q AS (SELECT * FROM gold.dashboard_metrics_london ORDER BY wthr_date) SELECT `wthr_date`,SUM(`number_of_reported_hotels`) `column_df8a94bc243`,AVG(`avg_tmpr_c`) `column_df8a94bc246`,MAX(`max_tmpr_c`) `column_df8a94bc249`,MIN(`min_tmpr_c`) `column_df8a94bc252` FROM q GROUP BY `wthr_date`",
       "commandTitle": "Visualization 1",
       "commandType": "auto",
       "commandVersion": 0,
       "commentThread": [],
       "commentsVisible": false,
       "contentSha256Hex": null,
       "customPlotOptions": {
        "redashChart": [
         {
          "key": "type",
          "value": "CHART"
         },
         {
          "key": "options",
          "value": {
           "alignYAxesAtZero": true,
           "coefficient": 1,
           "columnConfigurationMap": {
            "x": {
             "column": "wthr_date",
             "id": "column_df8a94bc240"
            },
            "y": [
             {
              "column": "number_of_reported_hotels",
              "id": "column_df8a94bc243",
              "transform": "SUM"
             },
             {
              "column": "avg_tmpr_c",
              "id": "column_df8a94bc246",
              "transform": "AVG"
             },
             {
              "column": "max_tmpr_c",
              "id": "column_df8a94bc249",
              "transform": "MAX"
             },
             {
              "column": "min_tmpr_c",
              "id": "column_df8a94bc252",
              "transform": "MIN"
             }
            ]
           },
           "dateTimeFormat": "DD/MM/YYYY HH:mm",
           "direction": {
            "type": "counterclockwise"
           },
           "error_y": {
            "type": "data",
            "visible": true
           },
           "globalSeriesType": "column",
           "isAggregationOn": true,
           "legend": {
            "traceorder": "normal"
           },
           "missingValuesAsZero": true,
           "numberFormat": "0,0.[00000]",
           "percentFormat": "0[.]00%",
           "series": {
            "error_y": {
             "type": "data",
             "visible": true
            },
            "stacking": null
           },
           "seriesOptions": {
            "column_df8a94bc243": {
             "type": "column",
             "yAxis": 0
            },
            "column_df8a94bc246": {
             "type": "column",
             "yAxis": 0
            },
            "column_df8a94bc249": {
             "type": "column",
             "yAxis": 0
            },
            "column_df8a94bc252": {
             "type": "column",
             "yAxis": 0
            }
           },
           "showDataLabels": false,
           "sizemode": "diameter",
           "sortX": true,
           "sortY": true,
           "swappedAxes": false,
           "textFormat": "",
           "useAggregationsUi": true,
           "valuesOptions": {},
           "version": 2,
           "xAxis": {
            "labels": {
             "enabled": true
            },
            "type": "-"
           },
           "yAxis": [
            {
             "type": "-"
            },
            {
             "opposite": true,
             "type": "-"
            }
           ]
          }
         }
        ]
       },
       "datasetPreviewNameToCmdIdMap": {},
       "diffDeletes": [],
       "diffInserts": [],
       "displayType": "redashChart",
       "error": null,
       "errorDetails": null,
       "errorSummary": null,
       "errorTraceType": null,
       "finishTime": 0,
       "globalVars": {},
       "guid": "",
       "height": "auto",
       "hideCommandCode": false,
       "hideCommandResult": false,
       "iPythonMetadata": null,
       "inputWidgets": {},
       "isLockedInExamMode": false,
       "latestUser": "a user",
       "latestUserId": null,
       "listResultMetadata": null,
       "metadata": {},
       "nuid": "79c4183e-07b1-425b-94d1-056f9b561dc9",
       "origId": 0,
       "parentHierarchy": [],
       "pivotAggregation": null,
       "pivotColumns": null,
       "position": 9.0,
       "resultDbfsErrorMessage": null,
       "resultDbfsStatus": "INLINED_IN_TREE",
       "results": null,
       "showCommandTitle": false,
       "startTime": 0,
       "state": "input",
       "streamStates": {},
       "subcommandOptions": {
        "queryPlan": {
         "groups": [
          {
           "column": "wthr_date",
           "type": "column"
          }
         ],
         "selects": [
          {
           "column": "wthr_date",
           "type": "column"
          },
          {
           "alias": "column_df8a94bc243",
           "args": [
            {
             "column": "number_of_reported_hotels",
             "type": "column"
            }
           ],
           "function": "SUM",
           "type": "function"
          },
          {
           "alias": "column_df8a94bc246",
           "args": [
            {
             "column": "avg_tmpr_c",
             "type": "column"
            }
           ],
           "function": "AVG",
           "type": "function"
          },
          {
           "alias": "column_df8a94bc249",
           "args": [
            {
             "column": "max_tmpr_c",
             "type": "column"
            }
           ],
           "function": "MAX",
           "type": "function"
          },
          {
           "alias": "column_df8a94bc252",
           "args": [
            {
             "column": "min_tmpr_c",
             "type": "column"
            }
           ],
           "function": "MIN",
           "type": "function"
          }
         ]
        }
       },
       "submitTime": 0,
       "subtype": "tableResultSubCmd.visualization",
       "tableResultIndex": 0,
       "tableResultSettingsMap": {},
       "useConsistentColors": false,
       "version": "CommandV1",
       "width": "auto",
       "workflows": null,
       "xColumns": null,
       "yColumns": null
      }
     },
     "output_type": "display_data"
    }
   ],
   "source": [
    "%sql\n",
    "SELECT * FROM gold.dashboard_metrics_london ORDER BY wthr_date"
   ]
  },
  {
   "cell_type": "markdown",
   "metadata": {
    "application/vnd.databricks.v1+cell": {
     "cellMetadata": {
      "byteLimit": 2048000,
      "rowLimit": 10000
     },
     "inputWidgets": {},
     "nuid": "91861402-3bb3-43a3-a654-80a16da75e2d",
     "showTitle": false,
     "tableResultSettingsMap": {},
     "title": ""
    }
   },
   "source": [
    "### Paris"
   ]
  },
  {
   "cell_type": "code",
   "execution_count": 0,
   "metadata": {
    "application/vnd.databricks.v1+cell": {
     "cellMetadata": {
      "byteLimit": 2048000,
      "implicitDf": true,
      "rowLimit": 10000
     },
     "inputWidgets": {},
     "nuid": "7f47eed3-65ac-4b70-9e70-9f9ff5f0b6fe",
     "showTitle": false,
     "tableResultSettingsMap": {},
     "title": ""
    }
   },
   "outputs": [
    {
     "output_type": "display_data",
     "data": {
      "text/plain": [
       "Databricks visualization. Run in Databricks to view."
      ]
     },
     "metadata": {
      "application/vnd.databricks.v1.subcommand+json": {
       "baseErrorDetails": null,
       "bindings": {},
       "collapsed": false,
       "command": "%sql WITH q AS (SELECT * FROM gold.dashboard_metrics_paris ORDER BY wthr_date) SELECT `wthr_date`,SUM(`number_of_reported_hotels`) `column_df8a94bc259`,AVG(`avg_tmpr_c`) `column_df8a94bc262`,MAX(`max_tmpr_c`) `column_df8a94bc265`,MIN(`min_tmpr_c`) `column_df8a94bc268` FROM q GROUP BY `wthr_date`",
       "commandTitle": "Visualization 1",
       "commandType": "auto",
       "commandVersion": 0,
       "commentThread": [],
       "commentsVisible": false,
       "contentSha256Hex": null,
       "customPlotOptions": {
        "redashChart": [
         {
          "key": "type",
          "value": "CHART"
         },
         {
          "key": "options",
          "value": {
           "alignYAxesAtZero": true,
           "coefficient": 1,
           "columnConfigurationMap": {
            "x": {
             "column": "wthr_date",
             "id": "column_df8a94bc255"
            },
            "y": [
             {
              "column": "number_of_reported_hotels",
              "id": "column_df8a94bc259",
              "transform": "SUM"
             },
             {
              "column": "avg_tmpr_c",
              "id": "column_df8a94bc262",
              "transform": "AVG"
             },
             {
              "column": "max_tmpr_c",
              "id": "column_df8a94bc265",
              "transform": "MAX"
             },
             {
              "column": "min_tmpr_c",
              "id": "column_df8a94bc268",
              "transform": "MIN"
             }
            ]
           },
           "dateTimeFormat": "DD/MM/YYYY HH:mm",
           "direction": {
            "type": "counterclockwise"
           },
           "error_y": {
            "type": "data",
            "visible": true
           },
           "globalSeriesType": "column",
           "isAggregationOn": true,
           "legend": {
            "traceorder": "normal"
           },
           "missingValuesAsZero": true,
           "numberFormat": "0,0.[00000]",
           "percentFormat": "0[.]00%",
           "series": {
            "error_y": {
             "type": "data",
             "visible": true
            },
            "stacking": null
           },
           "seriesOptions": {
            "column_df8a94bc259": {
             "type": "column",
             "yAxis": 0
            },
            "column_df8a94bc262": {
             "type": "column",
             "yAxis": 0
            },
            "column_df8a94bc265": {
             "type": "column",
             "yAxis": 0
            },
            "column_df8a94bc268": {
             "type": "column",
             "yAxis": 0
            }
           },
           "showDataLabels": false,
           "sizemode": "diameter",
           "sortX": true,
           "sortY": true,
           "swappedAxes": false,
           "textFormat": "",
           "useAggregationsUi": true,
           "valuesOptions": {},
           "version": 2,
           "xAxis": {
            "labels": {
             "enabled": true
            },
            "type": "-"
           },
           "yAxis": [
            {
             "type": "-"
            },
            {
             "opposite": true,
             "type": "-"
            }
           ]
          }
         }
        ]
       },
       "datasetPreviewNameToCmdIdMap": {},
       "diffDeletes": [],
       "diffInserts": [],
       "displayType": "redashChart",
       "error": null,
       "errorDetails": null,
       "errorSummary": null,
       "errorTraceType": null,
       "finishTime": 0,
       "globalVars": {},
       "guid": "",
       "height": "auto",
       "hideCommandCode": false,
       "hideCommandResult": false,
       "iPythonMetadata": null,
       "inputWidgets": {},
       "isLockedInExamMode": false,
       "latestUser": "a user",
       "latestUserId": null,
       "listResultMetadata": null,
       "metadata": {},
       "nuid": "201617ea-5cbc-441b-b392-59037dd4015b",
       "origId": 0,
       "parentHierarchy": [],
       "pivotAggregation": null,
       "pivotColumns": null,
       "position": 11.0,
       "resultDbfsErrorMessage": null,
       "resultDbfsStatus": "INLINED_IN_TREE",
       "results": null,
       "showCommandTitle": false,
       "startTime": 0,
       "state": "input",
       "streamStates": {},
       "subcommandOptions": {
        "queryPlan": {
         "groups": [
          {
           "column": "wthr_date",
           "type": "column"
          }
         ],
         "selects": [
          {
           "column": "wthr_date",
           "type": "column"
          },
          {
           "alias": "column_df8a94bc259",
           "args": [
            {
             "column": "number_of_reported_hotels",
             "type": "column"
            }
           ],
           "function": "SUM",
           "type": "function"
          },
          {
           "alias": "column_df8a94bc262",
           "args": [
            {
             "column": "avg_tmpr_c",
             "type": "column"
            }
           ],
           "function": "AVG",
           "type": "function"
          },
          {
           "alias": "column_df8a94bc265",
           "args": [
            {
             "column": "max_tmpr_c",
             "type": "column"
            }
           ],
           "function": "MAX",
           "type": "function"
          },
          {
           "alias": "column_df8a94bc268",
           "args": [
            {
             "column": "min_tmpr_c",
             "type": "column"
            }
           ],
           "function": "MIN",
           "type": "function"
          }
         ]
        }
       },
       "submitTime": 0,
       "subtype": "tableResultSubCmd.visualization",
       "tableResultIndex": 0,
       "tableResultSettingsMap": {},
       "useConsistentColors": false,
       "version": "CommandV1",
       "width": "auto",
       "workflows": null,
       "xColumns": null,
       "yColumns": null
      }
     },
     "output_type": "display_data"
    }
   ],
   "source": [
    "%sql\n",
    "SELECT * FROM gold.dashboard_metrics_paris ORDER BY wthr_date"
   ]
  },
  {
   "cell_type": "markdown",
   "metadata": {
    "application/vnd.databricks.v1+cell": {
     "cellMetadata": {
      "byteLimit": 2048000,
      "rowLimit": 10000
     },
     "inputWidgets": {},
     "nuid": "7621e568-e952-4fb7-b185-5c38a15b0617",
     "showTitle": false,
     "tableResultSettingsMap": {},
     "title": ""
    }
   },
   "source": [
    "### Tucson"
   ]
  },
  {
   "cell_type": "code",
   "execution_count": 0,
   "metadata": {
    "application/vnd.databricks.v1+cell": {
     "cellMetadata": {
      "byteLimit": 2048000,
      "implicitDf": true,
      "rowLimit": 10000
     },
     "inputWidgets": {},
     "nuid": "e77f6e0b-0313-472c-85db-289cccb1174a",
     "showTitle": false,
     "tableResultSettingsMap": {},
     "title": ""
    }
   },
   "outputs": [
    {
     "output_type": "display_data",
     "data": {
      "text/plain": [
       "Databricks visualization. Run in Databricks to view."
      ]
     },
     "metadata": {
      "application/vnd.databricks.v1.subcommand+json": {
       "baseErrorDetails": null,
       "bindings": {},
       "collapsed": false,
       "command": "%sql WITH q AS (SELECT * FROM gold.dashboard_metrics_tucson ORDER BY wthr_date) SELECT `wthr_date`,SUM(`number_of_reported_hotels`) `column_df8a94bc274`,AVG(`avg_tmpr_c`) `column_df8a94bc277`,MAX(`max_tmpr_c`) `column_df8a94bc280`,MIN(`min_tmpr_c`) `column_df8a94bc283` FROM q GROUP BY `wthr_date`",
       "commandTitle": "Visualization 1",
       "commandType": "auto",
       "commandVersion": 0,
       "commentThread": [],
       "commentsVisible": false,
       "contentSha256Hex": null,
       "customPlotOptions": {
        "redashChart": [
         {
          "key": "type",
          "value": "CHART"
         },
         {
          "key": "options",
          "value": {
           "alignYAxesAtZero": true,
           "coefficient": 1,
           "columnConfigurationMap": {
            "x": {
             "column": "wthr_date",
             "id": "column_df8a94bc271"
            },
            "y": [
             {
              "column": "number_of_reported_hotels",
              "id": "column_df8a94bc274",
              "transform": "SUM"
             },
             {
              "column": "avg_tmpr_c",
              "id": "column_df8a94bc277",
              "transform": "AVG"
             },
             {
              "column": "max_tmpr_c",
              "id": "column_df8a94bc280",
              "transform": "MAX"
             },
             {
              "column": "min_tmpr_c",
              "id": "column_df8a94bc283",
              "transform": "MIN"
             }
            ]
           },
           "dateTimeFormat": "DD/MM/YYYY HH:mm",
           "direction": {
            "type": "counterclockwise"
           },
           "error_y": {
            "type": "data",
            "visible": true
           },
           "globalSeriesType": "column",
           "isAggregationOn": true,
           "legend": {
            "traceorder": "normal"
           },
           "missingValuesAsZero": true,
           "numberFormat": "0,0.[00000]",
           "percentFormat": "0[.]00%",
           "series": {
            "error_y": {
             "type": "data",
             "visible": true
            },
            "stacking": null
           },
           "seriesOptions": {
            "column_df8a94bc274": {
             "type": "column",
             "yAxis": 0
            },
            "column_df8a94bc277": {
             "type": "column",
             "yAxis": 0
            },
            "column_df8a94bc280": {
             "type": "column",
             "yAxis": 0
            },
            "column_df8a94bc283": {
             "type": "column",
             "yAxis": 0
            }
           },
           "showDataLabels": false,
           "sizemode": "diameter",
           "sortX": true,
           "sortY": true,
           "swappedAxes": false,
           "textFormat": "",
           "useAggregationsUi": true,
           "valuesOptions": {},
           "version": 2,
           "xAxis": {
            "labels": {
             "enabled": true
            },
            "type": "-"
           },
           "yAxis": [
            {
             "type": "-"
            },
            {
             "opposite": true,
             "type": "-"
            }
           ]
          }
         }
        ]
       },
       "datasetPreviewNameToCmdIdMap": {},
       "diffDeletes": [],
       "diffInserts": [],
       "displayType": "redashChart",
       "error": null,
       "errorDetails": null,
       "errorSummary": null,
       "errorTraceType": null,
       "finishTime": 0,
       "globalVars": {},
       "guid": "",
       "height": "auto",
       "hideCommandCode": false,
       "hideCommandResult": false,
       "iPythonMetadata": null,
       "inputWidgets": {},
       "isLockedInExamMode": false,
       "latestUser": "a user",
       "latestUserId": null,
       "listResultMetadata": null,
       "metadata": {},
       "nuid": "090204b5-4ec8-442b-aa65-a00ac5687e3b",
       "origId": 0,
       "parentHierarchy": [],
       "pivotAggregation": null,
       "pivotColumns": null,
       "position": 13.0,
       "resultDbfsErrorMessage": null,
       "resultDbfsStatus": "INLINED_IN_TREE",
       "results": null,
       "showCommandTitle": false,
       "startTime": 0,
       "state": "input",
       "streamStates": {},
       "subcommandOptions": {
        "queryPlan": {
         "groups": [
          {
           "column": "wthr_date",
           "type": "column"
          }
         ],
         "selects": [
          {
           "column": "wthr_date",
           "type": "column"
          },
          {
           "alias": "column_df8a94bc274",
           "args": [
            {
             "column": "number_of_reported_hotels",
             "type": "column"
            }
           ],
           "function": "SUM",
           "type": "function"
          },
          {
           "alias": "column_df8a94bc277",
           "args": [
            {
             "column": "avg_tmpr_c",
             "type": "column"
            }
           ],
           "function": "AVG",
           "type": "function"
          },
          {
           "alias": "column_df8a94bc280",
           "args": [
            {
             "column": "max_tmpr_c",
             "type": "column"
            }
           ],
           "function": "MAX",
           "type": "function"
          },
          {
           "alias": "column_df8a94bc283",
           "args": [
            {
             "column": "min_tmpr_c",
             "type": "column"
            }
           ],
           "function": "MIN",
           "type": "function"
          }
         ]
        }
       },
       "submitTime": 0,
       "subtype": "tableResultSubCmd.visualization",
       "tableResultIndex": 0,
       "tableResultSettingsMap": {},
       "useConsistentColors": false,
       "version": "CommandV1",
       "width": "auto",
       "workflows": null,
       "xColumns": null,
       "yColumns": null
      }
     },
     "output_type": "display_data"
    }
   ],
   "source": [
    "%sql\n",
    "SELECT * FROM gold.dashboard_metrics_tucson ORDER BY wthr_date"
   ]
  }
 ],
 "metadata": {
  "application/vnd.databricks.v1+notebook": {
   "computePreferences": null,
   "dashboards": [],
   "environmentMetadata": null,
   "inputWidgetPreferences": null,
   "language": "python",
   "notebookMetadata": {
    "mostRecentlyExecutedCommandWithImplicitDF": {
     "commandId": 8237122270374122,
     "dataframes": [
      "_sqldf"
     ]
    },
    "pythonIndentUnit": 4
   },
   "notebookName": "06_dashboards",
   "widgets": {}
  },
  "language_info": {
   "name": "python"
  }
 },
 "nbformat": 4,
 "nbformat_minor": 0
}
