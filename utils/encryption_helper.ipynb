{
 "cells": [
  {
   "cell_type": "code",
   "execution_count": 0,
   "metadata": {
    "application/vnd.databricks.v1+cell": {
     "cellMetadata": {
      "byteLimit": 2048000,
      "rowLimit": 10000
     },
     "inputWidgets": {},
     "nuid": "82d233a3-09df-4a90-8df5-8209203a0bee",
     "showTitle": false,
     "tableResultSettingsMap": {},
     "title": ""
    }
   },
   "outputs": [],
   "source": [
    "from pyspark.sql import DataFrame\n",
    "from pyspark.sql.functions import col, lit, unbase64, base64, aes_encrypt, aes_decrypt, when, length\n",
    "from pyspark.sql.types import StringType\n",
    "import base64 as py_base64\n",
    "\n",
    "class EncryptionHelper:\n",
    "    def __init__(self, dbutils):\n",
    "        self.dbutils = dbutils\n",
    "        secret_key = dbutils.secrets.get(scope='secret-scope', key='encryption_key')\n",
    "        self.encryption_key = py_base64.b64decode(secret_key)\n",
    "        self.aes_mode = 'ECB'\n",
    "        self.aes_padding = 'PKCS'\n",
    "\n",
    "    def encrypt_dataframe(self, df: DataFrame, columns_to_encrypt: tuple) -> DataFrame:\n",
    "        df_columns = df.columns\n",
    "        found_columns = []\n",
    "        skipped_columns = []\n",
    "\n",
    "        for column in columns_to_encrypt:\n",
    "            if column in df_columns:\n",
    "                try:\n",
    "                    df = df.withColumn(\n",
    "                        column,\n",
    "                        base64(aes_encrypt(col(column).cast(StringType()), lit(self.encryption_key), lit(self.aes_mode), lit(self.aes_padding)))\n",
    "                    )\n",
    "                    found_columns.append(column)\n",
    "                except Exception as e:\n",
    "                    print(f\"Exception thrown while encrypting column '{column}': {e}\")\n",
    "            else:\n",
    "                skipped_columns.append(column)\n",
    "        \n",
    "        return df\n",
    "\n",
    "    def decrypt_dataframe(self, df: DataFrame, columns_to_decrypt: list) -> DataFrame:\n",
    "        b64 = \"^[A-Za-z0-9+/]*={0,2}$\"\n",
    "        out = df\n",
    "        for c in columns_to_decrypt:\n",
    "            looks_b64 = (\n",
    "                col(c).isNotNull() &\n",
    "                (length(col(c)) > 0) &\n",
    "                ((length(col(c)) % 4) == 0) &\n",
    "                col(c).rlike(b64)\n",
    "            )\n",
    "            out = out.withColumn(\n",
    "                c,\n",
    "                when(\n",
    "                    looks_b64,\n",
    "                    aes_decrypt(\n",
    "                        unbase64(col(c)),\n",
    "                        lit(self.encryption_key),\n",
    "                        lit(self.aes_mode),\n",
    "                        lit(self.aes_padding)\n",
    "                    ).cast('string')\n",
    "                ).otherwise(col(c))\n",
    "            )\n",
    "        return out"
   ]
  }
 ],
 "metadata": {
  "application/vnd.databricks.v1+notebook": {
   "computePreferences": null,
   "dashboards": [],
   "environmentMetadata": {
    "base_environment": "",
    "environment_version": "3"
   },
   "inputWidgetPreferences": null,
   "language": "python",
   "notebookMetadata": {
    "pythonIndentUnit": 4
   },
   "notebookName": "encryption_helper",
   "widgets": {}
  },
  "language_info": {
   "name": "python"
  }
 },
 "nbformat": 4,
 "nbformat_minor": 0
}
